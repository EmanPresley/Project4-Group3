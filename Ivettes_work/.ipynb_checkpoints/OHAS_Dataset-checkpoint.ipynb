{
 "cells": [
  {
   "cell_type": "code",
   "execution_count": 2,
   "metadata": {
    "id": "jw-YLKZdpTqa"
   },
   "outputs": [],
   "source": [
    "import pandas as pd\n",
    "import glob\n",
    "import numpy as np\n",
    "import seaborn as sns\n",
    "import plotly.express as px\n",
    "import plotly.graph_objects as go\n",
    "import matplotlib.pyplot as plt\n",
    "from datetime import datetime\n",
    "import math"
   ]
  },
  {
   "cell_type": "code",
   "execution_count": 3,
   "metadata": {
    "colab": {
     "base_uri": "https://localhost:8080/",
     "height": 301
    },
    "id": "jshGit7WpvI8",
    "outputId": "5f600c25-894d-41f6-a914-3fa2b2f64758"
   },
   "outputs": [
    {
     "data": {
      "text/html": [
       "<div>\n",
       "<style scoped>\n",
       "    .dataframe tbody tr th:only-of-type {\n",
       "        vertical-align: middle;\n",
       "    }\n",
       "\n",
       "    .dataframe tbody tr th {\n",
       "        vertical-align: top;\n",
       "    }\n",
       "\n",
       "    .dataframe thead th {\n",
       "        text-align: right;\n",
       "    }\n",
       "</style>\n",
       "<table border=\"1\" class=\"dataframe\">\n",
       "  <thead>\n",
       "    <tr style=\"text-align: right;\">\n",
       "      <th></th>\n",
       "      <th>Disease</th>\n",
       "      <th>Disease_CUI</th>\n",
       "      <th>Symptoms</th>\n",
       "      <th>Symptom_CUI</th>\n",
       "      <th>Weight</th>\n",
       "      <th>Height</th>\n",
       "      <th>Intensity</th>\n",
       "      <th>Severity</th>\n",
       "      <th>Age</th>\n",
       "      <th>Gender</th>\n",
       "      <th>BMI_Level</th>\n",
       "      <th>Region</th>\n",
       "      <th>Season</th>\n",
       "    </tr>\n",
       "  </thead>\n",
       "  <tbody>\n",
       "    <tr>\n",
       "      <th>0</th>\n",
       "      <td>influenza</td>\n",
       "      <td>C0162565</td>\n",
       "      <td>uncoordi162tion</td>\n",
       "      <td>C0039239</td>\n",
       "      <td>68</td>\n",
       "      <td>180</td>\n",
       "      <td>high</td>\n",
       "      <td>medium</td>\n",
       "      <td>24</td>\n",
       "      <td>female</td>\n",
       "      <td>27.900</td>\n",
       "      <td>southwest</td>\n",
       "      <td>Summer</td>\n",
       "    </tr>\n",
       "    <tr>\n",
       "      <th>1</th>\n",
       "      <td>influenza</td>\n",
       "      <td>C0162565</td>\n",
       "      <td>fever</td>\n",
       "      <td>C0000737</td>\n",
       "      <td>68</td>\n",
       "      <td>170</td>\n",
       "      <td>low</td>\n",
       "      <td>medium</td>\n",
       "      <td>23</td>\n",
       "      <td>male</td>\n",
       "      <td>33.770</td>\n",
       "      <td>southeast</td>\n",
       "      <td>Summer</td>\n",
       "    </tr>\n",
       "    <tr>\n",
       "      <th>2</th>\n",
       "      <td>influenza</td>\n",
       "      <td>C0162565</td>\n",
       "      <td>pleuritic pain</td>\n",
       "      <td>C0235704</td>\n",
       "      <td>68</td>\n",
       "      <td>162</td>\n",
       "      <td>low</td>\n",
       "      <td>low</td>\n",
       "      <td>24</td>\n",
       "      <td>male</td>\n",
       "      <td>33.000</td>\n",
       "      <td>southeast</td>\n",
       "      <td>Summer</td>\n",
       "    </tr>\n",
       "    <tr>\n",
       "      <th>3</th>\n",
       "      <td>influenza</td>\n",
       "      <td>C0162565</td>\n",
       "      <td>snuffle</td>\n",
       "      <td>C0030554</td>\n",
       "      <td>68</td>\n",
       "      <td>162</td>\n",
       "      <td>high</td>\n",
       "      <td>medium</td>\n",
       "      <td>34</td>\n",
       "      <td>male</td>\n",
       "      <td>22.705</td>\n",
       "      <td>northwest</td>\n",
       "      <td>Summer</td>\n",
       "    </tr>\n",
       "    <tr>\n",
       "      <th>4</th>\n",
       "      <td>influenza</td>\n",
       "      <td>C0162565</td>\n",
       "      <td>throat sore</td>\n",
       "      <td>C0030552</td>\n",
       "      <td>68</td>\n",
       "      <td>185</td>\n",
       "      <td>low</td>\n",
       "      <td>high</td>\n",
       "      <td>21</td>\n",
       "      <td>male</td>\n",
       "      <td>28.880</td>\n",
       "      <td>northwest</td>\n",
       "      <td>Winter</td>\n",
       "    </tr>\n",
       "  </tbody>\n",
       "</table>\n",
       "</div>"
      ],
      "text/plain": [
       "     Disease Disease_CUI         Symptoms Symptom_CUI  Weight  Height  \\\n",
       "0  influenza    C0162565  uncoordi162tion    C0039239      68     180   \n",
       "1  influenza    C0162565            fever    C0000737      68     170   \n",
       "2  influenza    C0162565   pleuritic pain    C0235704      68     162   \n",
       "3  influenza    C0162565          snuffle    C0030554      68     162   \n",
       "4  influenza    C0162565      throat sore    C0030552      68     185   \n",
       "\n",
       "  Intensity Severity  Age  Gender  BMI_Level     Region  Season  \n",
       "0      high   medium   24  female     27.900  southwest  Summer  \n",
       "1       low   medium   23    male     33.770  southeast  Summer  \n",
       "2       low      low   24    male     33.000  southeast  Summer  \n",
       "3      high   medium   34    male     22.705  northwest  Summer  \n",
       "4       low     high   21    male     28.880  northwest  Winter  "
      ]
     },
     "execution_count": 3,
     "metadata": {},
     "output_type": "execute_result"
    }
   ],
   "source": [
    "df = pd.read_csv(\"OHAS_Dataset.csv\")\n",
    "df.head()"
   ]
  },
  {
   "cell_type": "code",
   "execution_count": 4,
   "metadata": {},
   "outputs": [
    {
     "name": "stdout",
     "output_type": "stream",
     "text": [
      "<class 'pandas.core.frame.DataFrame'>\n",
      "RangeIndex: 2129 entries, 0 to 2128\n",
      "Data columns (total 13 columns):\n",
      " #   Column       Non-Null Count  Dtype  \n",
      "---  ------       --------------  -----  \n",
      " 0   Disease      2129 non-null   object \n",
      " 1   Disease_CUI  2119 non-null   object \n",
      " 2   Symptoms     2127 non-null   object \n",
      " 3   Symptom_CUI  2129 non-null   object \n",
      " 4   Weight       2129 non-null   int64  \n",
      " 5   Height       2129 non-null   int64  \n",
      " 6   Intensity    2127 non-null   object \n",
      " 7   Severity     2128 non-null   object \n",
      " 8   Age          2129 non-null   int64  \n",
      " 9   Gender       2129 non-null   object \n",
      " 10  BMI_Level    2129 non-null   float64\n",
      " 11  Region       2129 non-null   object \n",
      " 12  Season       2129 non-null   object \n",
      "dtypes: float64(1), int64(3), object(9)\n",
      "memory usage: 216.4+ KB\n"
     ]
    }
   ],
   "source": [
    "df.info()"
   ]
  },
  {
   "cell_type": "code",
   "execution_count": 5,
   "metadata": {},
   "outputs": [
    {
     "data": {
      "text/plain": [
       "0"
      ]
     },
     "execution_count": 5,
     "metadata": {},
     "output_type": "execute_result"
    }
   ],
   "source": [
    "# CHeck for duplicates\n",
    "df.duplicated().sum()"
   ]
  },
  {
   "cell_type": "code",
   "execution_count": 6,
   "metadata": {},
   "outputs": [
    {
     "data": {
      "text/plain": [
       "Disease         0\n",
       "Disease_CUI    10\n",
       "Symptoms        2\n",
       "Symptom_CUI     0\n",
       "Weight          0\n",
       "Height          0\n",
       "Intensity       2\n",
       "Severity        1\n",
       "Age             0\n",
       "Gender          0\n",
       "BMI_Level       0\n",
       "Region          0\n",
       "Season          0\n",
       "dtype: int64"
      ]
     },
     "execution_count": 6,
     "metadata": {},
     "output_type": "execute_result"
    }
   ],
   "source": [
    "# Check for missing values by column\n",
    "df.isna().sum()"
   ]
  },
  {
   "cell_type": "code",
   "execution_count": 7,
   "metadata": {},
   "outputs": [],
   "source": [
    "# Drop rows with missing values\n",
    "df.dropna(inplace=True)"
   ]
  },
  {
   "cell_type": "code",
   "execution_count": 8,
   "metadata": {},
   "outputs": [
    {
     "data": {
      "text/plain": [
       "Disease        0\n",
       "Disease_CUI    0\n",
       "Symptoms       0\n",
       "Symptom_CUI    0\n",
       "Weight         0\n",
       "Height         0\n",
       "Intensity      0\n",
       "Severity       0\n",
       "Age            0\n",
       "Gender         0\n",
       "BMI_Level      0\n",
       "Region         0\n",
       "Season         0\n",
       "dtype: int64"
      ]
     },
     "execution_count": 8,
     "metadata": {},
     "output_type": "execute_result"
    }
   ],
   "source": [
    "# Another check for missing values by column\n",
    "df.isna().sum()"
   ]
  },
  {
   "cell_type": "code",
   "execution_count": 9,
   "metadata": {},
   "outputs": [
    {
     "name": "stdout",
     "output_type": "stream",
     "text": [
      "<class 'pandas.core.frame.DataFrame'>\n",
      "Index: 2114 entries, 0 to 2128\n",
      "Data columns (total 13 columns):\n",
      " #   Column       Non-Null Count  Dtype  \n",
      "---  ------       --------------  -----  \n",
      " 0   Disease      2114 non-null   object \n",
      " 1   Disease_CUI  2114 non-null   object \n",
      " 2   Symptoms     2114 non-null   object \n",
      " 3   Symptom_CUI  2114 non-null   object \n",
      " 4   Weight       2114 non-null   int64  \n",
      " 5   Height       2114 non-null   int64  \n",
      " 6   Intensity    2114 non-null   object \n",
      " 7   Severity     2114 non-null   object \n",
      " 8   Age          2114 non-null   int64  \n",
      " 9   Gender       2114 non-null   object \n",
      " 10  BMI_Level    2114 non-null   float64\n",
      " 11  Region       2114 non-null   object \n",
      " 12  Season       2114 non-null   object \n",
      "dtypes: float64(1), int64(3), object(9)\n",
      "memory usage: 231.2+ KB\n"
     ]
    }
   ],
   "source": [
    "#Rechecking missing values\n",
    "df.info()"
   ]
  },
  {
   "cell_type": "code",
   "execution_count": 10,
   "metadata": {},
   "outputs": [
    {
     "data": {
      "text/plain": [
       "147"
      ]
     },
     "execution_count": 10,
     "metadata": {},
     "output_type": "execute_result"
    }
   ],
   "source": [
    "df[\"Disease\"].nunique()"
   ]
  },
  {
   "cell_type": "code",
   "execution_count": 11,
   "metadata": {},
   "outputs": [
    {
     "data": {
      "text/plain": [
       "Disease        147\n",
       "Disease_CUI    137\n",
       "Symptoms       403\n",
       "Symptom_CUI    638\n",
       "Weight         102\n",
       "Height          59\n",
       "Intensity        3\n",
       "Severity         3\n",
       "Age             42\n",
       "Gender           2\n",
       "BMI_Level      546\n",
       "Region           4\n",
       "Season           2\n",
       "dtype: int64"
      ]
     },
     "execution_count": 11,
     "metadata": {},
     "output_type": "execute_result"
    }
   ],
   "source": [
    "# To count unique values for all the columns\n",
    "df.nunique()"
   ]
  },
  {
   "cell_type": "code",
   "execution_count": 17,
   "metadata": {},
   "outputs": [
    {
     "data": {
      "text/plain": [
       "Gender\n",
       "female    1062\n",
       "male      1052\n",
       "Name: count, dtype: int64"
      ]
     },
     "execution_count": 17,
     "metadata": {},
     "output_type": "execute_result"
    }
   ],
   "source": [
    "# To count the number of females and males in the dataset\n",
    "df.Gender.value_counts()"
   ]
  },
  {
   "cell_type": "code",
   "execution_count": 18,
   "metadata": {},
   "outputs": [
    {
     "name": "stdout",
     "output_type": "stream",
     "text": [
      "Region\n",
      "northeast    513\n",
      "northwest    519\n",
      "southeast    571\n",
      "southwest    511\n",
      "Name: Disease, dtype: int64\n"
     ]
    }
   ],
   "source": [
    "# To count the number of diseases in each region\n",
    "disease_count_by_region = df.groupby('Region')['Disease'].count()\n",
    "print(disease_count_by_region)"
   ]
  },
  {
   "cell_type": "code",
   "execution_count": 19,
   "metadata": {},
   "outputs": [],
   "source": [
    "df.to_csv(\"OHAS_Cleaned_Dataset.csv\", index=False, header=True)"
   ]
  },
  {
   "cell_type": "code",
   "execution_count": null,
   "metadata": {},
   "outputs": [],
   "source": []
  }
 ],
 "metadata": {
  "colab": {
   "provenance": []
  },
  "kernelspec": {
   "display_name": "Python 3 (ipykernel)",
   "language": "python",
   "name": "python3"
  },
  "language_info": {
   "codemirror_mode": {
    "name": "ipython",
    "version": 3
   },
   "file_extension": ".py",
   "mimetype": "text/x-python",
   "name": "python",
   "nbconvert_exporter": "python",
   "pygments_lexer": "ipython3",
   "version": "3.11.5"
  }
 },
 "nbformat": 4,
 "nbformat_minor": 4
}
