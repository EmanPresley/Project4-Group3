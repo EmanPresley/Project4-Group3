{
 "cells": [
  {
   "cell_type": "code",
   "execution_count": 35,
   "metadata": {
    "id": "jw-YLKZdpTqa"
   },
   "outputs": [],
   "source": [
    "import pandas as pd\n",
    "import glob\n",
    "import numpy as np\n",
    "import seaborn as sns\n",
    "import plotly.express as px\n",
    "import plotly.graph_objects as go\n",
    "import matplotlib.pyplot as plt\n",
    "from datetime import datetime\n",
    "import math\n",
    "# Supress warnings\n",
    "import warnings\n",
    "warnings.filterwarnings('ignore')"
   ]
  },
  {
   "cell_type": "code",
   "execution_count": 36,
   "metadata": {
    "colab": {
     "base_uri": "https://localhost:8080/",
     "height": 301
    },
    "id": "jshGit7WpvI8",
    "outputId": "5f600c25-894d-41f6-a914-3fa2b2f64758"
   },
   "outputs": [
    {
     "data": {
      "text/html": [
       "<div>\n",
       "<style scoped>\n",
       "    .dataframe tbody tr th:only-of-type {\n",
       "        vertical-align: middle;\n",
       "    }\n",
       "\n",
       "    .dataframe tbody tr th {\n",
       "        vertical-align: top;\n",
       "    }\n",
       "\n",
       "    .dataframe thead th {\n",
       "        text-align: right;\n",
       "    }\n",
       "</style>\n",
       "<table border=\"1\" class=\"dataframe\">\n",
       "  <thead>\n",
       "    <tr style=\"text-align: right;\">\n",
       "      <th></th>\n",
       "      <th>Disease</th>\n",
       "      <th>Disease_CUI</th>\n",
       "      <th>Symptoms</th>\n",
       "      <th>Symptom_CUI</th>\n",
       "      <th>Weight</th>\n",
       "      <th>Height</th>\n",
       "      <th>Intensity</th>\n",
       "      <th>Severity</th>\n",
       "      <th>Age</th>\n",
       "      <th>Gender</th>\n",
       "      <th>BMI_Level</th>\n",
       "      <th>Region</th>\n",
       "      <th>Season</th>\n",
       "    </tr>\n",
       "  </thead>\n",
       "  <tbody>\n",
       "    <tr>\n",
       "      <th>0</th>\n",
       "      <td>influenza</td>\n",
       "      <td>C0162565</td>\n",
       "      <td>uncoordi162tion</td>\n",
       "      <td>C0039239</td>\n",
       "      <td>68</td>\n",
       "      <td>180</td>\n",
       "      <td>high</td>\n",
       "      <td>medium</td>\n",
       "      <td>24</td>\n",
       "      <td>female</td>\n",
       "      <td>27.900</td>\n",
       "      <td>southwest</td>\n",
       "      <td>Summer</td>\n",
       "    </tr>\n",
       "    <tr>\n",
       "      <th>1</th>\n",
       "      <td>influenza</td>\n",
       "      <td>C0162565</td>\n",
       "      <td>fever</td>\n",
       "      <td>C0000737</td>\n",
       "      <td>68</td>\n",
       "      <td>170</td>\n",
       "      <td>low</td>\n",
       "      <td>medium</td>\n",
       "      <td>23</td>\n",
       "      <td>male</td>\n",
       "      <td>33.770</td>\n",
       "      <td>southeast</td>\n",
       "      <td>Summer</td>\n",
       "    </tr>\n",
       "    <tr>\n",
       "      <th>2</th>\n",
       "      <td>influenza</td>\n",
       "      <td>C0162565</td>\n",
       "      <td>pleuritic pain</td>\n",
       "      <td>C0235704</td>\n",
       "      <td>68</td>\n",
       "      <td>162</td>\n",
       "      <td>low</td>\n",
       "      <td>low</td>\n",
       "      <td>24</td>\n",
       "      <td>male</td>\n",
       "      <td>33.000</td>\n",
       "      <td>southeast</td>\n",
       "      <td>Summer</td>\n",
       "    </tr>\n",
       "    <tr>\n",
       "      <th>3</th>\n",
       "      <td>influenza</td>\n",
       "      <td>C0162565</td>\n",
       "      <td>snuffle</td>\n",
       "      <td>C0030554</td>\n",
       "      <td>68</td>\n",
       "      <td>162</td>\n",
       "      <td>high</td>\n",
       "      <td>medium</td>\n",
       "      <td>34</td>\n",
       "      <td>male</td>\n",
       "      <td>22.705</td>\n",
       "      <td>northwest</td>\n",
       "      <td>Summer</td>\n",
       "    </tr>\n",
       "    <tr>\n",
       "      <th>4</th>\n",
       "      <td>influenza</td>\n",
       "      <td>C0162565</td>\n",
       "      <td>throat sore</td>\n",
       "      <td>C0030552</td>\n",
       "      <td>68</td>\n",
       "      <td>185</td>\n",
       "      <td>low</td>\n",
       "      <td>high</td>\n",
       "      <td>21</td>\n",
       "      <td>male</td>\n",
       "      <td>28.880</td>\n",
       "      <td>northwest</td>\n",
       "      <td>Winter</td>\n",
       "    </tr>\n",
       "  </tbody>\n",
       "</table>\n",
       "</div>"
      ],
      "text/plain": [
       "     Disease Disease_CUI         Symptoms Symptom_CUI  Weight  Height  \\\n",
       "0  influenza    C0162565  uncoordi162tion    C0039239      68     180   \n",
       "1  influenza    C0162565            fever    C0000737      68     170   \n",
       "2  influenza    C0162565   pleuritic pain    C0235704      68     162   \n",
       "3  influenza    C0162565          snuffle    C0030554      68     162   \n",
       "4  influenza    C0162565      throat sore    C0030552      68     185   \n",
       "\n",
       "  Intensity Severity  Age  Gender  BMI_Level     Region  Season  \n",
       "0      high   medium   24  female     27.900  southwest  Summer  \n",
       "1       low   medium   23    male     33.770  southeast  Summer  \n",
       "2       low      low   24    male     33.000  southeast  Summer  \n",
       "3      high   medium   34    male     22.705  northwest  Summer  \n",
       "4       low     high   21    male     28.880  northwest  Winter  "
      ]
     },
     "execution_count": 36,
     "metadata": {},
     "output_type": "execute_result"
    }
   ],
   "source": [
    "df = pd.read_csv(\"OHAS_Dataset.csv\")\n",
    "df.head()"
   ]
  },
  {
   "cell_type": "code",
   "execution_count": 37,
   "metadata": {},
   "outputs": [
    {
     "name": "stdout",
     "output_type": "stream",
     "text": [
      "<class 'pandas.core.frame.DataFrame'>\n",
      "RangeIndex: 2129 entries, 0 to 2128\n",
      "Data columns (total 13 columns):\n",
      " #   Column       Non-Null Count  Dtype  \n",
      "---  ------       --------------  -----  \n",
      " 0   Disease      2129 non-null   object \n",
      " 1   Disease_CUI  2119 non-null   object \n",
      " 2   Symptoms     2127 non-null   object \n",
      " 3   Symptom_CUI  2129 non-null   object \n",
      " 4   Weight       2129 non-null   int64  \n",
      " 5   Height       2129 non-null   int64  \n",
      " 6   Intensity    2127 non-null   object \n",
      " 7   Severity     2128 non-null   object \n",
      " 8   Age          2129 non-null   int64  \n",
      " 9   Gender       2129 non-null   object \n",
      " 10  BMI_Level    2129 non-null   float64\n",
      " 11  Region       2129 non-null   object \n",
      " 12  Season       2129 non-null   object \n",
      "dtypes: float64(1), int64(3), object(9)\n",
      "memory usage: 216.4+ KB\n"
     ]
    }
   ],
   "source": [
    "df.info()"
   ]
  },
  {
   "cell_type": "code",
   "execution_count": 38,
   "metadata": {},
   "outputs": [],
   "source": [
    "# To keep only the diseases that we are interested in\n",
    "Diseases_to_keep = ['acquired immuno-deficiency syndrome', 'arthritis', 'diabetes', 'gastroenteritis', 'hepatitis', 'hepatitis B',\n",
    "'hepatitis C', 'hemorrhoids', 'hypertension pulmo162ry', 'hypothyroidism', 'gastroesophageal reflux disease', 'hypoglycemia', 'asthma',\n",
    "'migraine disorders', 'pneumonia', 'infection uri162ry tract', 'degenerative polyarthritis']\n",
    "# Filter the DataFrame to only include the diseases in the list\n",
    "filtered_df = df[df['Disease'].isin(Diseases_to_keep)]"
   ]
  },
  {
   "cell_type": "code",
   "execution_count": 39,
   "metadata": {},
   "outputs": [],
   "source": [
    "# Mapping of old names to new names\n",
    "Disease_mapping = {\n",
    "    'degenerative polyarthritis': 'osteoarthritis',\n",
    "    'infection uri162ry tract': 'urinary tract infection',\n",
    "    'hepatitis': 'hepatitis A',\n",
    "    'acquired immuno-deficiency syndrome': 'AIDS',\n",
    "    'hypertension pulmo162ry': 'hypertension',\n",
    "    'gastroesophageal reflux disease': 'GERD',\n",
    "    'migraine disorders': 'migraine'\n",
    "}\n",
    "\n",
    "# Replace the diseases with the new names\n",
    "filtered_df['Disease'] = filtered_df['Disease'].replace(Disease_mapping)"
   ]
  },
  {
   "cell_type": "code",
   "execution_count": 40,
   "metadata": {},
   "outputs": [
    {
     "data": {
      "text/html": [
       "<div>\n",
       "<style scoped>\n",
       "    .dataframe tbody tr th:only-of-type {\n",
       "        vertical-align: middle;\n",
       "    }\n",
       "\n",
       "    .dataframe tbody tr th {\n",
       "        vertical-align: top;\n",
       "    }\n",
       "\n",
       "    .dataframe thead th {\n",
       "        text-align: right;\n",
       "    }\n",
       "</style>\n",
       "<table border=\"1\" class=\"dataframe\">\n",
       "  <thead>\n",
       "    <tr style=\"text-align: right;\">\n",
       "      <th></th>\n",
       "      <th>Disease</th>\n",
       "      <th>Disease_CUI</th>\n",
       "      <th>Symptoms</th>\n",
       "      <th>Symptom_CUI</th>\n",
       "      <th>Weight</th>\n",
       "      <th>Height</th>\n",
       "      <th>Intensity</th>\n",
       "      <th>Severity</th>\n",
       "      <th>Age</th>\n",
       "      <th>Gender</th>\n",
       "      <th>BMI_Level</th>\n",
       "      <th>Region</th>\n",
       "      <th>Season</th>\n",
       "    </tr>\n",
       "  </thead>\n",
       "  <tbody>\n",
       "    <tr>\n",
       "      <th>95</th>\n",
       "      <td>hypothyroidism</td>\n",
       "      <td>C0024790</td>\n",
       "      <td>shortness of breath</td>\n",
       "      <td>C0019054</td>\n",
       "      <td>398</td>\n",
       "      <td>162</td>\n",
       "      <td>low</td>\n",
       "      <td>low</td>\n",
       "      <td>23</td>\n",
       "      <td>female</td>\n",
       "      <td>37.62</td>\n",
       "      <td>southeast</td>\n",
       "      <td>Summer</td>\n",
       "    </tr>\n",
       "    <tr>\n",
       "      <th>96</th>\n",
       "      <td>hypothyroidism</td>\n",
       "      <td>C0024790</td>\n",
       "      <td>prostatism</td>\n",
       "      <td>C0008031</td>\n",
       "      <td>398</td>\n",
       "      <td>187</td>\n",
       "      <td>low</td>\n",
       "      <td>high</td>\n",
       "      <td>24</td>\n",
       "      <td>female</td>\n",
       "      <td>30.80</td>\n",
       "      <td>southwest</td>\n",
       "      <td>Summer</td>\n",
       "    </tr>\n",
       "    <tr>\n",
       "      <th>97</th>\n",
       "      <td>hypothyroidism</td>\n",
       "      <td>C0024790</td>\n",
       "      <td>drowsiness</td>\n",
       "      <td>C0027497</td>\n",
       "      <td>398</td>\n",
       "      <td>187</td>\n",
       "      <td>high</td>\n",
       "      <td>medium</td>\n",
       "      <td>28</td>\n",
       "      <td>male</td>\n",
       "      <td>38.28</td>\n",
       "      <td>southeast</td>\n",
       "      <td>Summer</td>\n",
       "    </tr>\n",
       "    <tr>\n",
       "      <th>98</th>\n",
       "      <td>hypothyroidism</td>\n",
       "      <td>C0024790</td>\n",
       "      <td>sleepy</td>\n",
       "      <td>C0011168</td>\n",
       "      <td>398</td>\n",
       "      <td>187</td>\n",
       "      <td>low</td>\n",
       "      <td>high</td>\n",
       "      <td>30</td>\n",
       "      <td>male</td>\n",
       "      <td>19.95</td>\n",
       "      <td>northeast</td>\n",
       "      <td>Summer</td>\n",
       "    </tr>\n",
       "    <tr>\n",
       "      <th>99</th>\n",
       "      <td>hypothyroidism</td>\n",
       "      <td>C0024790</td>\n",
       "      <td>hypo162tremia</td>\n",
       "      <td>C0242350</td>\n",
       "      <td>398</td>\n",
       "      <td>190</td>\n",
       "      <td>low</td>\n",
       "      <td>high</td>\n",
       "      <td>24</td>\n",
       "      <td>male</td>\n",
       "      <td>19.30</td>\n",
       "      <td>southwest</td>\n",
       "      <td>Winter</td>\n",
       "    </tr>\n",
       "  </tbody>\n",
       "</table>\n",
       "</div>"
      ],
      "text/plain": [
       "           Disease Disease_CUI             Symptoms Symptom_CUI  Weight  \\\n",
       "95  hypothyroidism    C0024790  shortness of breath    C0019054     398   \n",
       "96  hypothyroidism    C0024790           prostatism    C0008031     398   \n",
       "97  hypothyroidism    C0024790           drowsiness    C0027497     398   \n",
       "98  hypothyroidism    C0024790               sleepy    C0011168     398   \n",
       "99  hypothyroidism    C0024790        hypo162tremia    C0242350     398   \n",
       "\n",
       "    Height Intensity Severity  Age  Gender  BMI_Level     Region  Season  \n",
       "95     162       low      low   23  female      37.62  southeast  Summer  \n",
       "96     187       low     high   24  female      30.80  southwest  Summer  \n",
       "97     187      high   medium   28    male      38.28  southeast  Summer  \n",
       "98     187       low     high   30    male      19.95  northeast  Summer  \n",
       "99     190       low     high   24    male      19.30  southwest  Winter  "
      ]
     },
     "execution_count": 40,
     "metadata": {},
     "output_type": "execute_result"
    }
   ],
   "source": [
    "filtered_df.head()"
   ]
  },
  {
   "cell_type": "code",
   "execution_count": 41,
   "metadata": {},
   "outputs": [
    {
     "name": "stdout",
     "output_type": "stream",
     "text": [
      "<class 'pandas.core.frame.DataFrame'>\n",
      "Index: 219 entries, 95 to 2128\n",
      "Data columns (total 13 columns):\n",
      " #   Column       Non-Null Count  Dtype  \n",
      "---  ------       --------------  -----  \n",
      " 0   Disease      219 non-null    object \n",
      " 1   Disease_CUI  219 non-null    object \n",
      " 2   Symptoms     218 non-null    object \n",
      " 3   Symptom_CUI  219 non-null    object \n",
      " 4   Weight       219 non-null    int64  \n",
      " 5   Height       219 non-null    int64  \n",
      " 6   Intensity    219 non-null    object \n",
      " 7   Severity     219 non-null    object \n",
      " 8   Age          219 non-null    int64  \n",
      " 9   Gender       219 non-null    object \n",
      " 10  BMI_Level    219 non-null    float64\n",
      " 11  Region       219 non-null    object \n",
      " 12  Season       219 non-null    object \n",
      "dtypes: float64(1), int64(3), object(9)\n",
      "memory usage: 24.0+ KB\n"
     ]
    }
   ],
   "source": [
    "filtered_df.info()"
   ]
  },
  {
   "cell_type": "code",
   "execution_count": 42,
   "metadata": {},
   "outputs": [
    {
     "data": {
      "text/plain": [
       "0"
      ]
     },
     "execution_count": 42,
     "metadata": {},
     "output_type": "execute_result"
    }
   ],
   "source": [
    "# CHeck for duplicates\n",
    "filtered_df.duplicated().sum()"
   ]
  },
  {
   "cell_type": "code",
   "execution_count": 43,
   "metadata": {},
   "outputs": [
    {
     "data": {
      "text/plain": [
       "Disease        0\n",
       "Disease_CUI    0\n",
       "Symptoms       1\n",
       "Symptom_CUI    0\n",
       "Weight         0\n",
       "Height         0\n",
       "Intensity      0\n",
       "Severity       0\n",
       "Age            0\n",
       "Gender         0\n",
       "BMI_Level      0\n",
       "Region         0\n",
       "Season         0\n",
       "dtype: int64"
      ]
     },
     "execution_count": 43,
     "metadata": {},
     "output_type": "execute_result"
    }
   ],
   "source": [
    "# Check for missing values by column\n",
    "filtered_df.isna().sum()"
   ]
  },
  {
   "cell_type": "code",
   "execution_count": 44,
   "metadata": {},
   "outputs": [],
   "source": [
    "# Drop rows with missing values\n",
    "filtered_df.dropna(inplace=True)"
   ]
  },
  {
   "cell_type": "code",
   "execution_count": 45,
   "metadata": {},
   "outputs": [
    {
     "data": {
      "text/plain": [
       "Disease        0\n",
       "Disease_CUI    0\n",
       "Symptoms       0\n",
       "Symptom_CUI    0\n",
       "Weight         0\n",
       "Height         0\n",
       "Intensity      0\n",
       "Severity       0\n",
       "Age            0\n",
       "Gender         0\n",
       "BMI_Level      0\n",
       "Region         0\n",
       "Season         0\n",
       "dtype: int64"
      ]
     },
     "execution_count": 45,
     "metadata": {},
     "output_type": "execute_result"
    }
   ],
   "source": [
    "# Another check for missing values by column\n",
    "filtered_df.isna().sum()"
   ]
  },
  {
   "cell_type": "code",
   "execution_count": 46,
   "metadata": {},
   "outputs": [
    {
     "name": "stdout",
     "output_type": "stream",
     "text": [
      "<class 'pandas.core.frame.DataFrame'>\n",
      "Index: 218 entries, 95 to 2128\n",
      "Data columns (total 13 columns):\n",
      " #   Column       Non-Null Count  Dtype  \n",
      "---  ------       --------------  -----  \n",
      " 0   Disease      218 non-null    object \n",
      " 1   Disease_CUI  218 non-null    object \n",
      " 2   Symptoms     218 non-null    object \n",
      " 3   Symptom_CUI  218 non-null    object \n",
      " 4   Weight       218 non-null    int64  \n",
      " 5   Height       218 non-null    int64  \n",
      " 6   Intensity    218 non-null    object \n",
      " 7   Severity     218 non-null    object \n",
      " 8   Age          218 non-null    int64  \n",
      " 9   Gender       218 non-null    object \n",
      " 10  BMI_Level    218 non-null    float64\n",
      " 11  Region       218 non-null    object \n",
      " 12  Season       218 non-null    object \n",
      "dtypes: float64(1), int64(3), object(9)\n",
      "memory usage: 23.8+ KB\n"
     ]
    }
   ],
   "source": [
    "#Rechecking missing values\n",
    "filtered_df.info()"
   ]
  },
  {
   "cell_type": "code",
   "execution_count": 47,
   "metadata": {},
   "outputs": [
    {
     "data": {
      "text/plain": [
       "17"
      ]
     },
     "execution_count": 47,
     "metadata": {},
     "output_type": "execute_result"
    }
   ],
   "source": [
    "filtered_df[\"Disease\"].nunique()"
   ]
  },
  {
   "cell_type": "code",
   "execution_count": 48,
   "metadata": {},
   "outputs": [
    {
     "data": {
      "text/plain": [
       "Disease         17\n",
       "Disease_CUI     17\n",
       "Symptoms       130\n",
       "Symptom_CUI    144\n",
       "Weight          17\n",
       "Height          37\n",
       "Intensity        3\n",
       "Severity         3\n",
       "Age             25\n",
       "Gender           2\n",
       "BMI_Level      177\n",
       "Region           4\n",
       "Season           2\n",
       "dtype: int64"
      ]
     },
     "execution_count": 48,
     "metadata": {},
     "output_type": "execute_result"
    }
   ],
   "source": [
    "# To count unique values for all the columns\n",
    "filtered_df.nunique()"
   ]
  },
  {
   "cell_type": "code",
   "execution_count": 49,
   "metadata": {},
   "outputs": [
    {
     "data": {
      "text/plain": [
       "Gender\n",
       "female    121\n",
       "male       97\n",
       "Name: count, dtype: int64"
      ]
     },
     "execution_count": 49,
     "metadata": {},
     "output_type": "execute_result"
    }
   ],
   "source": [
    "# To count the number of females and males in the dataset\n",
    "filtered_df.Gender.value_counts()"
   ]
  },
  {
   "cell_type": "code",
   "execution_count": 50,
   "metadata": {},
   "outputs": [
    {
     "name": "stdout",
     "output_type": "stream",
     "text": [
      "Region\n",
      "northeast    49\n",
      "northwest    50\n",
      "southeast    75\n",
      "southwest    44\n",
      "Name: Disease, dtype: int64\n"
     ]
    }
   ],
   "source": [
    "# To count the number of diseases in each region\n",
    "disease_count_by_region = filtered_df.groupby('Region')['Disease'].count()\n",
    "print(disease_count_by_region)"
   ]
  },
  {
   "cell_type": "code",
   "execution_count": 51,
   "metadata": {},
   "outputs": [],
   "source": [
    "filtered_df.to_csv(\"OHAS_Cleaned_Dataset.csv\", index=False, header=True)"
   ]
  },
  {
   "cell_type": "code",
   "execution_count": null,
   "metadata": {},
   "outputs": [],
   "source": []
  }
 ],
 "metadata": {
  "colab": {
   "provenance": []
  },
  "kernelspec": {
   "display_name": "Python 3 (ipykernel)",
   "language": "python",
   "name": "python3"
  },
  "language_info": {
   "codemirror_mode": {
    "name": "ipython",
    "version": 3
   },
   "file_extension": ".py",
   "mimetype": "text/x-python",
   "name": "python",
   "nbconvert_exporter": "python",
   "pygments_lexer": "ipython3",
   "version": "3.11.5"
  }
 },
 "nbformat": 4,
 "nbformat_minor": 4
}
